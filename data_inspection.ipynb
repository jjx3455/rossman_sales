{
 "cells": [
  {
   "cell_type": "code",
   "execution_count": null,
   "id": "75a87533",
   "metadata": {},
   "outputs": [],
   "source": [
    "import pandas as pd \n",
    "import numpy as np \n",
    "import datetime as dt"
   ]
  },
  {
   "cell_type": "code",
   "execution_count": null,
   "id": "8cdea8b2",
   "metadata": {},
   "outputs": [],
   "source": [
    "df_train = pd.read_csv('data/train.csv')\n",
    "df_store = pd.read_csv('data/store.csv')\n",
    "df_holdout = pd.read_csv('data/holdout.csv')"
   ]
  },
  {
   "cell_type": "code",
   "execution_count": null,
   "id": "88d31ad5",
   "metadata": {},
   "outputs": [],
   "source": [
    "def merge_data(train, store):\n",
    "        \n",
    "        \"\"\" Takes two dataframes,\n",
    "            creates two copies\n",
    "            drop the customers axis\n",
    "            drop the nan for sale and stores\n",
    "            make sure the store coumns are of the same type. \n",
    "            inner merge on the column store.  \"\"\"\n",
    "        train_copy = train.copy()\n",
    "        store_copy = store.copy()\n",
    "        train_copy = train_copy.drop(columns = ['Customers'])\n",
    "        train_copy = train_copy.dropna(axis = 0, how = 'any', subset = ['Sales', 'Store'])\n",
    "        train_copy['Store'] = train_copy['Store'].astype(int)\n",
    "        store_copy['Store'] = store_copy['Store'].astype(int)\n",
    "        df_p = pd.merge(train_copy, store_copy, how = 'inner', on = 'Store')\n",
    "    \n",
    "        return df_p"
   ]
  },
  {
   "cell_type": "code",
   "execution_count": null,
   "id": "5b2a39f5",
   "metadata": {},
   "outputs": [],
   "source": [
    "hot_encoded_columns = ['Open', 'StateHoliday', 'StoreType', 'Assortment']\n",
    "\n",
    "dropped_columns = ['Store', 'CompetitionOpenSinceMonth', 'CompetitionOpenSinceYear',\\\n",
    "                   'Promo2SinceWeek', 'Promo2SinceYear', 'PromoInterval']\n",
    "\n",
    "filled_in_median = ['CompetitionDistance']\n",
    "\n",
    "filled_in_mode = ['Promo', 'SchoolHoliday']\n",
    " \n",
    "target = ['Sales']"
   ]
  },
  {
   "cell_type": "code",
   "execution_count": null,
   "id": "983ea6bc",
   "metadata": {},
   "outputs": [],
   "source": [
    "df_p = merge_data(df_train, df_store)\n"
   ]
  },
  {
   "cell_type": "code",
   "execution_count": null,
   "id": "ee9332a5",
   "metadata": {},
   "outputs": [],
   "source": [
    "dropped_columns_n = ['CompetitionOpenSinceMonth', 'CompetitionOpenSinceYear',\\\n",
    "                   'Promo2SinceWeek', 'Promo2SinceYear', 'PromoInterval']\n",
    "df_p1 = df_p.drop(columns = dropped_columns_n)\n",
    "df_p1.head(3)"
   ]
  },
  {
   "cell_type": "code",
   "execution_count": null,
   "id": "f7d71c16",
   "metadata": {},
   "outputs": [],
   "source": [
    "# Estimate day-month-year etc\n",
    "\n",
    "df_copy = df_p1.copy()\n",
    "df_copy['Date'] = pd.to_datetime(df_copy['Date'])    \n",
    "df_copy['day'] = df_copy['Date'].dt.day\n",
    "df_copy['month'] = df_copy['Date'].dt.month\n",
    "df_copy['year'] = df_copy['Date'].dt.year\n",
    "df_copy['weekday_name'] = df_copy['Date'].dt.day_name()\n",
    "df_copy['weekday'] = df_copy['Date'].apply(lambda x: x.weekday())\n"
   ]
  },
  {
   "cell_type": "code",
   "execution_count": null,
   "id": "f09fe5a8",
   "metadata": {},
   "outputs": [],
   "source": [
    "# Fill empty with \"9\" -> set these as string to make plotting easier\n",
    "df_copy[\"Promo\"] = df_copy[\"Promo\"].fillna(9).astype(str)\n",
    "df_copy[\"Open\"] = df_copy[\"Open\"].fillna(9).astype(str)\n",
    "df_copy[\"SchoolHoliday\"] = df_copy[\"SchoolHoliday\"].fillna(9).astype(str)\n",
    "df_copy.head(3)\n",
    "\n"
   ]
  },
  {
   "cell_type": "code",
   "execution_count": null,
   "id": "eb6efc2f",
   "metadata": {},
   "outputs": [],
   "source": [
    "#fig.add_scatter(x=x, y=np.sin(x), name='sin(x)', row=1, col=1)\n"
   ]
  },
  {
   "cell_type": "code",
   "execution_count": null,
   "id": "ab5a3fb6",
   "metadata": {},
   "outputs": [],
   "source": [
    "#from plotly.subplots import make_subplots\n",
    "#import plotly.graph_objects as go\n",
    "\n",
    "#fig = make_subplots(rows=1, cols=2) \n",
    "\n",
    "#fig.add_box(x=df_copy[\"StoreType\"], \n",
    "#            y=df_copy[\"Sales\"],\n",
    "#            row=1, col=1)\\\n",
    "#    .add_box(x=df_copy[\"Assortment\"], \n",
    "#            y=df_copy[\"Sales\"],\n",
    "#            row=1, col=2)"
   ]
  },
  {
   "cell_type": "code",
   "execution_count": null,
   "id": "a776f643",
   "metadata": {},
   "outputs": [],
   "source": [
    "# Plot Sales per StoreType\n",
    "import plotly.express as px\n",
    "\n",
    "px.box(\n",
    "    df_copy, \n",
    "    x=\"StoreType\", \n",
    "    y=\"Sales\", \n",
    "    color=\"StoreType\",\n",
    "    width=500,\n",
    "    height=500,\n",
    "    title='Sales per StoreType',\n",
    "    points=False,\n",
    ")"
   ]
  },
  {
   "cell_type": "code",
   "execution_count": null,
   "id": "2553c226",
   "metadata": {},
   "outputs": [],
   "source": [
    "# Sales per Assortment \n",
    "px.box(\n",
    "    df_copy, \n",
    "    x=\"Assortment\", \n",
    "    y=\"Sales\", \n",
    "    color=\"Assortment\",\n",
    "    width=500,\n",
    "    height=500,\n",
    "    title='Sales per Assortment',\n",
    "    points=False,\n",
    ")"
   ]
  },
  {
   "cell_type": "code",
   "execution_count": null,
   "id": "70ca9571",
   "metadata": {},
   "outputs": [],
   "source": [
    "\n",
    "# # Any relation of Store Type & Assortment ?\n",
    "px.box(\n",
    "    df_copy, \n",
    "    x=\"Assortment\", \n",
    "    y=\"Sales\", \n",
    "    color=\"Assortment\",\n",
    "    facet_col=\"StoreType\",\n",
    "    width=950,\n",
    "    height=500,\n",
    "    title='Sales per Assortment',\n",
    "    points=False,\n",
    ")\n",
    "\n",
    "# NOTE: 1) Assortment *c* sales a lot in StoreType=b\n",
    "# 2) Assortment *b* is only found in StoreType=b"
   ]
  },
  {
   "cell_type": "code",
   "execution_count": null,
   "id": "46913d92",
   "metadata": {},
   "outputs": [],
   "source": [
    "# Any relation of Store Type & Assortment ?\n",
    "unique_storetypes = df_copy[\"StoreType\"].unique()\n",
    "\n",
    "dict_storetype_assortment = {}\n",
    "for storetype in unique_storetypes:\n",
    "    dict_storetype_assortment[storetype] = df_copy\\\n",
    "                                            .query(f\"StoreType=='{storetype}'\")\\\n",
    "                                            .loc[:, \"Assortment\"]\\\n",
    "                                            .value_counts()\\\n",
    "                                            .to_dict()\n",
    "\n",
    "\n",
    "dict_storetype_assortment\n",
    "for k,v in dict_storetype_assortment.items():\n",
    "    print(f\"\\nStore type *{k}* ->  assortments: {v}\")\n",
    "\n",
    "# Note: Apparently StoreType *b* is the only one selling assortment *b*"
   ]
  },
  {
   "cell_type": "code",
   "execution_count": null,
   "id": "e928a95d",
   "metadata": {},
   "outputs": [],
   "source": []
  },
  {
   "cell_type": "code",
   "execution_count": null,
   "id": "d1e21ae7",
   "metadata": {},
   "outputs": [],
   "source": [
    "# Sales for School Holidays\n",
    "px.box(\n",
    "    df_copy, \n",
    "    x=\"SchoolHoliday\", \n",
    "    y=\"Sales\",\n",
    "    color=\"SchoolHoliday\",\n",
    "    width=500,\n",
    "    height=500,\n",
    "    title='Sales for SchoolHoliday',\n",
    "    points=False,\n",
    ")\n",
    "\n",
    "# NOTE: Missing values look more similar to no-holidays \n",
    "# -> Impute them as 0?"
   ]
  },
  {
   "cell_type": "code",
   "execution_count": null,
   "id": "5e4ed5f7",
   "metadata": {},
   "outputs": [],
   "source": []
  },
  {
   "cell_type": "code",
   "execution_count": null,
   "id": "505ed8f1",
   "metadata": {},
   "outputs": [],
   "source": [
    "# Sales for Regional-Promo\n",
    "px.box(\n",
    "    df_copy, \n",
    "    x=\"Promo\", \n",
    "    y=\"Sales\",\n",
    "    color=\"Promo\",\n",
    "    width=500,\n",
    "    height=500,\n",
    "    title='Sales for Regional Promo',\n",
    "    points=False,\n",
    ")\n",
    "\n",
    "# NOTE: Regional-promo works. Higher sales when it's running."
   ]
  },
  {
   "cell_type": "code",
   "execution_count": null,
   "id": "e4026263",
   "metadata": {},
   "outputs": [],
   "source": []
  },
  {
   "cell_type": "code",
   "execution_count": null,
   "id": "b12dfa9a",
   "metadata": {},
   "outputs": [],
   "source": [
    "# Sales for Overal-Promo\n",
    "#df_copy.groupby(\"Promo2\")[\"Sales\"].mean()\n",
    "\n",
    "px.box(\n",
    "    df_copy, \n",
    "    x=\"Promo2\", \n",
    "    y=\"Sales\",\n",
    "    color=\"Promo2\",\n",
    "    width=500,\n",
    "    height=500,\n",
    "    title='Sales for Overal Promo',\n",
    "    points=False,\n",
    ")\n",
    "\n",
    "# NOTE: Overall-promo seems (ineffective to) counter-productive. More sales when a shop is NOT participating."
   ]
  },
  {
   "cell_type": "code",
   "execution_count": null,
   "id": "d5ff680b",
   "metadata": {},
   "outputs": [],
   "source": [
    "# Sales per Week Day \n",
    "\n",
    "df_copy.groupby([\"weekday\"])[\"Sales\"].describe()"
   ]
  },
  {
   "cell_type": "code",
   "execution_count": null,
   "id": "ba5f6462",
   "metadata": {},
   "outputs": [],
   "source": [
    "df_copy.groupby([\"weekday_name\"])[\"Sales\"].describe()"
   ]
  },
  {
   "cell_type": "code",
   "execution_count": null,
   "id": "ec7f46ee",
   "metadata": {},
   "outputs": [],
   "source": [
    "# Sales per Week Day \n",
    "\n",
    "px.box(\n",
    "    df_copy, \n",
    "    x=\"weekday_name\", \n",
    "    y=\"Sales\", \n",
    "    color=\"weekday_name\",\n",
    "    width=500,\n",
    "    height=500,\n",
    "    title='Sales per WeekDay',\n",
    "    points=False\n",
    ")\n",
    "\n",
    "#NOTE: Clear, ~ no sales on Sunday, high sales on Monday"
   ]
  },
  {
   "cell_type": "code",
   "execution_count": null,
   "id": "552727d0",
   "metadata": {},
   "outputs": [],
   "source": [
    "# Sales per WeekDay per Store Type\n",
    "px.box(\n",
    "    df_copy, \n",
    "    x=\"weekday_name\", \n",
    "    y=\"Sales\", \n",
    "    color=\"StoreType\",\n",
    "    width=900,\n",
    "    height=500,\n",
    "    title='Sales per Store Type',\n",
    ")\n",
    "\n",
    "# NOTE: So StoreType *b* is open on Sundays"
   ]
  },
  {
   "cell_type": "code",
   "execution_count": null,
   "id": "7f33c9b8",
   "metadata": {},
   "outputs": [],
   "source": [
    "# Sales per Weekday per Assortment \n",
    "px.box(\n",
    "    df_copy, \n",
    "    x=\"weekday_name\", \n",
    "    y=\"Sales\", \n",
    "    color=\"Assortment\",\n",
    "    width=900,\n",
    "    height=500,\n",
    "    title='Sales per Weekday per Assortment',\n",
    ")"
   ]
  },
  {
   "cell_type": "code",
   "execution_count": null,
   "id": "053f07e0",
   "metadata": {},
   "outputs": [],
   "source": [
    "# Sales per WeekDay per Overal Promo\n",
    "px.box(\n",
    "    df_copy, \n",
    "    x=\"weekday_name\", \n",
    "    y=\"Sales\",\n",
    "    color=\"Promo2\",\n",
    "    width=800,\n",
    "    height=500,\n",
    "    title='Sales per WeekDay per Overall Promo',\n",
    "    points=False,\n",
    ")"
   ]
  },
  {
   "cell_type": "code",
   "execution_count": null,
   "id": "ea329b20",
   "metadata": {},
   "outputs": [],
   "source": [
    "df_copy[\"Promo\"].isnull().sum()"
   ]
  },
  {
   "cell_type": "code",
   "execution_count": null,
   "id": "26b41d18",
   "metadata": {},
   "outputs": [],
   "source": [
    "# Sales per WeekDay per Regional-Promo\n",
    "px.box(\n",
    "    df_copy, \n",
    "    x=\"weekday_name\", \n",
    "    y=\"Sales\",\n",
    "    color=\"Promo\",\n",
    "    width=800,\n",
    "    height=500,\n",
    "    title='Sales per WeekDay per Regional Promo',\n",
    "    points=False,\n",
    ")"
   ]
  },
  {
   "cell_type": "code",
   "execution_count": null,
   "id": "023d6004",
   "metadata": {},
   "outputs": [],
   "source": [
    "# Sales per month day\n",
    "\n",
    "px.box(\n",
    "    df_copy, \n",
    "    x=\"day\", \n",
    "    y=\"Sales\", \n",
    "    color=\"day\",\n",
    "    width=1000,\n",
    "    height=500,\n",
    "    title='Sales per month day',\n",
    "    points=False\n",
    ")\n",
    "\n",
    "# NOTE : seems to have some periodicity with peaks at start,middle & end of month"
   ]
  },
  {
   "cell_type": "code",
   "execution_count": null,
   "id": "45d801d0",
   "metadata": {},
   "outputs": [],
   "source": [
    "# Sales per Month\n",
    "df_copy.groupby([\"month\"])[\"Sales\"].describe()"
   ]
  },
  {
   "cell_type": "code",
   "execution_count": null,
   "id": "4c0b8581",
   "metadata": {},
   "outputs": [],
   "source": [
    "# Sales per Month\n",
    "px.box(\n",
    "    df_copy, \n",
    "    x=\"month\", \n",
    "    y=\"Sales\", \n",
    "    color=\"month\",\n",
    "    width=700,\n",
    "    height=550,\n",
    "    title='Sales per Month',\n",
    "    points=False\n",
    ")\n",
    "\n",
    "# NOTE: as expected higher sales for December"
   ]
  },
  {
   "cell_type": "code",
   "execution_count": null,
   "id": "1c6b77e3",
   "metadata": {},
   "outputs": [],
   "source": [
    "# Sales per Month per Store Type\n",
    "px.box(\n",
    "    df_copy, \n",
    "    x=\"month\", \n",
    "    y=\"Sales\", \n",
    "    color=\"StoreType\",\n",
    "    width=900,\n",
    "    height=500,\n",
    "    title='Sales per Month per Store Type',\n",
    ")"
   ]
  },
  {
   "cell_type": "code",
   "execution_count": null,
   "id": "f78fd96c",
   "metadata": {},
   "outputs": [],
   "source": [
    "# Sales per Month per Assortment\n",
    "px.box(\n",
    "    df_copy, \n",
    "    x=\"month\", \n",
    "    y=\"Sales\", \n",
    "    color=\"Assortment\",\n",
    "    width=900,\n",
    "    height=500,\n",
    "    title='Sales per Month per Assortment',\n",
    ")"
   ]
  },
  {
   "cell_type": "code",
   "execution_count": null,
   "id": "3119a665",
   "metadata": {},
   "outputs": [],
   "source": [
    "df_copy.columns\n"
   ]
  },
  {
   "cell_type": "code",
   "execution_count": null,
   "id": "4536fcfb",
   "metadata": {},
   "outputs": [],
   "source": [
    "df_grpday_sortA = pd.DataFrame(\\\n",
    "                    df_copy\\\n",
    "                    .query(\"StoreType=='a'\")\\\n",
    "                    .groupby([\"Date\"])[\"Sales\"]\\\n",
    "                    .mean())\\\n",
    "                    .assign(StoreType=\"a\")\n",
    "df_grpday_sortA"
   ]
  },
  {
   "cell_type": "code",
   "execution_count": null,
   "id": "36f0e11b",
   "metadata": {},
   "outputs": [],
   "source": [
    "# Any relation of Store Type & Assortment ?\n",
    "\n",
    "unique_storetypes = df_copy[\"StoreType\"].unique()\n",
    "\n",
    "dict_storetype_assortment = {}\n",
    "for storetype in unique_storetypes:\n",
    "    dict_storetype_assortment[storetype] = df_copy\\\n",
    "                                            .query(f\"StoreType=='{storetype}'\")\\\n",
    "                                            .loc[:, \"Assortment\"]\\\n",
    "                                            .value_counts()\\\n",
    "                                            .to_dict()\n",
    "\n",
    "\n",
    "dict_storetype_assortment\n",
    "for k,v in dict_storetype_assortment.items():\n",
    "    print(f\"\\nStore type *{k}* ->  assortments: {v}\")\n",
    "\n",
    "# Note: Apparently StoreType *b* is the only one selling assortment *b*"
   ]
  },
  {
   "cell_type": "code",
   "execution_count": null,
   "id": "f0a12ce8",
   "metadata": {},
   "outputs": [],
   "source": [
    "# Time-series of Sales for every Store Type\n",
    "\n",
    "def groupdate_sales_storetype(df, storetype:str):\n",
    "    \"\"\" Get dataframe with avgSales and StoreType grouped by Date \"\"\"\n",
    "    df_n = pd.DataFrame(df\\\n",
    "                    .query(f\"StoreType=='{storetype}'\")\\\n",
    "                    .groupby([\"Date\"])[\"Sales\"]\\\n",
    "                    .mean())\\\n",
    "                    .assign(StoreType=storetype)\n",
    "    return df_n   "
   ]
  },
  {
   "cell_type": "code",
   "execution_count": null,
   "id": "251aa0de",
   "metadata": {},
   "outputs": [],
   "source": [
    "# a. For each StoreType : Get dataframe with avgSales and StoreType grouped by Date\"\"\"\n",
    "# b. Concatenate across rows \n",
    "\n",
    "unique_storetypes = df_copy[\"StoreType\"].unique()\n",
    "\n",
    "df_grpday_sort = pd.concat(\n",
    "    [groupdate_sales_storetype(df_copy, storetype) \\\n",
    "     for storetype in unique_storetypes], axis=0\n",
    ")\n",
    "\n",
    "df_grpday_sort"
   ]
  },
  {
   "cell_type": "code",
   "execution_count": null,
   "id": "47da176d",
   "metadata": {},
   "outputs": [],
   "source": []
  },
  {
   "cell_type": "code",
   "execution_count": null,
   "id": "fb2f67be",
   "metadata": {},
   "outputs": [],
   "source": [
    "# Grouping by date\n",
    "#df_grpday_sortA = df_copy.query(\"SortType=='a'\").groupby([\"Date\"]).mean()\n",
    "\n",
    "#df_grpday = df_copy.groupby([\"Date\"]).mean()\n",
    "#df_grpday\n",
    "\n",
    "#df_grpday.index"
   ]
  },
  {
   "cell_type": "code",
   "execution_count": null,
   "id": "f201ca61",
   "metadata": {},
   "outputs": [],
   "source": [
    "# Time-series of Sales for every Store Type\n",
    "px.scatter(\n",
    "    df_grpday_sort,\n",
    "    x=df_grpday_sort.index, \n",
    "    y=\"Sales\",\n",
    "    color=\"StoreType\",\n",
    "    width=950,\n",
    "    height=500,\n",
    "    title='Sales over time per StoreType')\\\n",
    "    .update_traces(mode='lines+markers')\n"
   ]
  },
  {
   "cell_type": "code",
   "execution_count": null,
   "id": "cc2b540b",
   "metadata": {},
   "outputs": [],
   "source": [
    "df_copy"
   ]
  },
  {
   "cell_type": "code",
   "execution_count": null,
   "id": "8445d9df",
   "metadata": {},
   "outputs": [],
   "source": [
    "# Sales ~ CompetitionDistance\n"
   ]
  },
  {
   "cell_type": "code",
   "execution_count": null,
   "id": "b5d48948",
   "metadata": {},
   "outputs": [],
   "source": [
    "unique_storetypes = df_copy[\"StoreType\"].unique()\n",
    "unique_storetypes"
   ]
  },
  {
   "cell_type": "code",
   "execution_count": null,
   "id": "017a16da",
   "metadata": {},
   "outputs": [],
   "source": [
    "# Time-series of Sales for every Store Type\n",
    "\n",
    "def groupstore_sales_compdist(df, storetype:str):\n",
    "    \"\"\" Get dataframe with avgSales and CompetitionDistance grouped by Store\"\"\"\n",
    "    df_n = pd.DataFrame(df\\\n",
    "                    .query(f\"StoreType=='{storetype}'\")\\\n",
    "                    .groupby([\"Store\"])[\"Sales\", \"CompetitionDistance\"]\\\n",
    "                    .mean())\\\n",
    "                    .assign(StoreType=storetype)\n",
    "    return df_n   "
   ]
  },
  {
   "cell_type": "code",
   "execution_count": null,
   "id": "f0c9e787",
   "metadata": {},
   "outputs": [],
   "source": [
    "unique_storetypes = df_p[\"StoreType\"].unique()\n",
    "\n",
    "df_grpstore_sales_compdist = pd.concat(\n",
    "    [groupstore_sales_compdist(df_p, storetype) \\\n",
    "     for storetype in unique_storetypes], axis=0\n",
    ")\n",
    "\n",
    "df_grpstore_sales_compdist"
   ]
  },
  {
   "cell_type": "code",
   "execution_count": null,
   "id": "689bf96e",
   "metadata": {},
   "outputs": [],
   "source": [
    "# Some checking\n",
    "\n",
    "A = df_copy[\"CompetitionDistance\"].sort_values().unique()\n",
    "B = df_grpstore_sales_compdist[\"CompetitionDistance\"].sort_values().unique()\n",
    "\n",
    "C = np.array(A==B)\n",
    "C\n",
    "#print(A[-1], B[-1])"
   ]
  },
  {
   "cell_type": "code",
   "execution_count": null,
   "id": "7f51e580",
   "metadata": {},
   "outputs": [],
   "source": [
    "# Spearman Correlation between Sales ~ CompetitionDistance"
   ]
  },
  {
   "cell_type": "code",
   "execution_count": null,
   "id": "ee434578",
   "metadata": {},
   "outputs": [],
   "source": [
    "corr_spearman = df_grpstore_sales_compdist.corr(method=\"spearman\")\n",
    "corr_spearman"
   ]
  },
  {
   "cell_type": "code",
   "execution_count": null,
   "id": "b496d086",
   "metadata": {},
   "outputs": [],
   "source": [
    "unique_storetypes = df_p[\"StoreType\"].unique()\n",
    "\n",
    "for storetype in unique_storetypes:\n",
    "    corr_spearman = df_grpstore_sales_compdist\\\n",
    "                        .query(f\"StoreType=='{storetype}'\")\\\n",
    "                        .corr(method=\"spearman\")\n",
    "    print(f\"STORETYPE *{storetype}*:\\n{corr_spearman}\\n\")\n"
   ]
  },
  {
   "cell_type": "code",
   "execution_count": null,
   "id": "ad3b17f0",
   "metadata": {},
   "outputs": [],
   "source": [
    "#df_grpstore_sales_compdist_n[\"StoreType\"].value_counts()"
   ]
  },
  {
   "cell_type": "code",
   "execution_count": null,
   "id": "c931ff70",
   "metadata": {},
   "outputs": [],
   "source": [
    "\n",
    "px.scatter(\n",
    "    df_grpstore_sales_compdist,\n",
    "    x=\"CompetitionDistance\", \n",
    "    y=\"Sales\",\n",
    "    color=\"StoreType\",\n",
    "    trendline=\"ols\",\n",
    "    width=600,\n",
    "    height=600,\n",
    "    title='Sales ~ CompetitionDistance')\\\n",
    "\n"
   ]
  },
  {
   "cell_type": "code",
   "execution_count": null,
   "id": "ce45676d",
   "metadata": {},
   "outputs": [],
   "source": []
  },
  {
   "cell_type": "code",
   "execution_count": null,
   "id": "e48a7aaa",
   "metadata": {},
   "outputs": [],
   "source": []
  },
  {
   "cell_type": "code",
   "execution_count": null,
   "id": "6a673ba8",
   "metadata": {},
   "outputs": [],
   "source": []
  },
  {
   "cell_type": "code",
   "execution_count": null,
   "id": "c97cee57",
   "metadata": {},
   "outputs": [],
   "source": []
  },
  {
   "cell_type": "code",
   "execution_count": null,
   "id": "dc354088",
   "metadata": {},
   "outputs": [],
   "source": []
  },
  {
   "cell_type": "code",
   "execution_count": null,
   "id": "37d6256f",
   "metadata": {},
   "outputs": [],
   "source": []
  }
 ],
 "metadata": {
  "kernelspec": {
   "display_name": "Python 3 (ipykernel)",
   "language": "python",
   "name": "python3"
  },
  "language_info": {
   "codemirror_mode": {
    "name": "ipython",
    "version": 3
   },
   "file_extension": ".py",
   "mimetype": "text/x-python",
   "name": "python",
   "nbconvert_exporter": "python",
   "pygments_lexer": "ipython3",
   "version": "3.8.11"
  }
 },
 "nbformat": 4,
 "nbformat_minor": 5
}
