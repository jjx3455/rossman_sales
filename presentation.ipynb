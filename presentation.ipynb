{
 "cells": [
  {
   "cell_type": "markdown",
   "id": "9e3c3079",
   "metadata": {},
   "source": [
    "# File structure of the model\n",
    "\n",
    "The model is composed of the following files:\n",
    "<ol>\n",
    "<li> a main file containing the data input, and the fitting and prediction of the model. The data loading is described in the 'Data input' section.</li>\n",
    "\n",
    "<li> a data cleaning file where a data cleaning class is defined. The effect of the data cleaning class is described in 'Data cleaning section'</li>\n",
    "\n",
    "<li> a model file containing the actual model and its parameters. The content of the model is descrived in the 'Model' section.</li>\n",
    "</ol>   "
   ]
  },
  {
   "cell_type": "markdown",
   "id": "f7b4eb15",
   "metadata": {},
   "source": [
    "# Data input\n",
    "<ol>\n",
    "<li> The data are loaded. </li>\n",
    "\n",
    "<li> We split the sales from the data. We obtain three DataFrames:\n",
    "    <ol>\n",
    "    <li> Training data for the store: 'Date', 'Store', 'DayOfWeek', 'Sales', 'Customers', 'Open', 'Promo', 'StateHoliday', 'SchoolHoliday'</li>  \n",
    "    <li> Store data: 'Store', 'StoreType', 'Assortment', 'CompetitionDistance',\n",
    "       'CompetitionOpenSinceMonth', 'CompetitionOpenSinceYear', 'Promo2', 'Promo2SinceWeek', 'Promo2SinceYear', 'PromoInterval'</li>\n",
    "    <li> The target data: a Dataframe of one columns: 'Sale'</li>\n",
    "    </ol>\n",
    "</li>\n",
    "</ol>"
   ]
  },
  {
   "cell_type": "markdown",
   "id": "7f3f9c07",
   "metadata": {},
   "source": [
    "# Data cleaning\n",
    "\n",
    "<ol>\n",
    "<li> We merge an inner merge on the store columns, between the training data and the store data. </li>\n",
    "\n",
    "\n",
    "<li> Rows with empty sales or store id are dropped. </li>\n",
    "\n",
    "<li> We drop the rows fro which the sales are zeros. </li>\n",
    "\n",
    "<li> At inspection of the data, we observe that the 'StateHoliday' has a class defined by two distinct parameters: an integer 0 and a string 0. This is corrected. </li>\n",
    "\n",
    "<li> For the date: we add three new columns containing week day, day, month and year. The columns 'DayofWeek' is redun dant, and dropped. The 'Date' columns is ultimately dropped. </li> \n",
    "\n",
    "<li> We perform one hot encoding on the following parameters:\n",
    "     'StateHoliday', 'Assortment', 'SchoolHoliday'\n",
    "   For those columns containing Nan, a nan type columns is created. </li>\n",
    "\n",
    "\n",
    "<li>  We introduce the follwing features\n",
    "    <ol>\n",
    "    <li> for each row, the median store sale of the corresponding store id of the row is added. </li>\n",
    "    <li> for each row, the median store standard deviation of the corresponding store id of the row is added. </li>\n",
    "    <li> for each row, the  store type mean sale of the store type of the corresponding row is added. </li>\n",
    "    <li> for each row, the store stype standard deviation type of the store type of the corresponding row is added. </li>\n",
    "     <li>   Ultimately, 'Store' id and 'Storetype' columns are dropped. </li>\n",
    "     </ol>   \n",
    "\n",
    "    \n",
    "\n",
    "<li> The 'CompetitionDistance' column has missing value, and is filled in median. </li>\n",
    "\n",
    "<li> The 'Promotion' column has missing value, and is filled with the mininum of the remaining value.</li>\n",
    "\n",
    "<li> Ultimately, the following columns are dropped:\n",
    "'Store', 'CompetitionOpenSinceMonth', 'CompetitionOpenSinceYear','Promo2SinceWeek', 'Promo2SinceYear', 'PromoInterval', 'Date', 'Open',\n",
    "'StoreType'. </li>\n",
    "\n",
    "<li> The output of the cleaning is two dataframes with identical indices. The feature daraframe has the following columns:\n",
    "\n",
    "'Promo', 'Sales', 'CompetitionDistance', 'Promo2', 'day', 'month',\n",
    "       'year', 'weekday', 'median_sales', 'std_sales', 'type_median',\n",
    "       'type_std', 'mean_sales', 'StateHoliday_b', 'StateHoliday_c',\n",
    "       'StateHoliday_no', 'StateHoliday_nan', 'Assortment_b', 'Assortment_c',\n",
    "       'Assortment_nan', 'SchoolHoliday_1.0', 'SchoolHoliday_nan'</li>\n",
    "   \n",
    "    \n",
    "</ol>"
   ]
  },
  {
   "cell_type": "code",
   "execution_count": null,
   "id": "f8cb12bc",
   "metadata": {},
   "outputs": [],
   "source": []
  }
 ],
 "metadata": {
  "kernelspec": {
   "display_name": "competition",
   "language": "python",
   "name": "competition"
  },
  "language_info": {
   "codemirror_mode": {
    "name": "ipython",
    "version": 3
   },
   "file_extension": ".py",
   "mimetype": "text/x-python",
   "name": "python",
   "nbconvert_exporter": "python",
   "pygments_lexer": "ipython3",
   "version": "3.8.11"
  }
 },
 "nbformat": 4,
 "nbformat_minor": 5
}
